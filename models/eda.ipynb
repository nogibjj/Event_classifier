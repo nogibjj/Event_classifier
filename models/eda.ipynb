{
 "cells": [
  {
   "cell_type": "code",
   "execution_count": 11,
   "metadata": {},
   "outputs": [],
   "source": [
    "import pandas as pd\n",
    "events = pd.read_csv('events.csv')"
   ]
  },
  {
   "cell_type": "markdown",
   "metadata": {},
   "source": [
    "## Check the length of text"
   ]
  },
  {
   "cell_type": "markdown",
   "metadata": {},
   "source": [
    "When "
   ]
  },
  {
   "cell_type": "code",
   "execution_count": 4,
   "metadata": {},
   "outputs": [
    {
     "data": {
      "text/html": [
       "<div>\n",
       "<style scoped>\n",
       "    .dataframe tbody tr th:only-of-type {\n",
       "        vertical-align: middle;\n",
       "    }\n",
       "\n",
       "    .dataframe tbody tr th {\n",
       "        vertical-align: top;\n",
       "    }\n",
       "\n",
       "    .dataframe thead th {\n",
       "        text-align: right;\n",
       "    }\n",
       "</style>\n",
       "<table border=\"1\" class=\"dataframe\">\n",
       "  <thead>\n",
       "    <tr style=\"text-align: right;\">\n",
       "      <th></th>\n",
       "      <th>title</th>\n",
       "      <th>details</th>\n",
       "      <th>type</th>\n",
       "      <th>type_id</th>\n",
       "      <th>host</th>\n",
       "      <th>date</th>\n",
       "      <th>time</th>\n",
       "      <th>location</th>\n",
       "      <th>link</th>\n",
       "      <th>title_details</th>\n",
       "    </tr>\n",
       "  </thead>\n",
       "  <tbody>\n",
       "    <tr>\n",
       "      <th>4404</th>\n",
       "      <td>TeaGather with CommuniTEA</td>\n",
       "      <td>In partnership with Duke CommuniTEA, this well...</td>\n",
       "      <td>Health/Wellness</td>\n",
       "      <td>1</td>\n",
       "      <td>Student Wellness Center</td>\n",
       "      <td>Thu, Mar 23, 2023</td>\n",
       "      <td>5 PM – 6 PM EDT (GMT-4)</td>\n",
       "      <td>Private Location (sign in to display)</td>\n",
       "      <td>https://dukegroups.com/events/rsvp?id=1936769</td>\n",
       "      <td>TeaGather with CommuniTEA. In partnership with...</td>\n",
       "    </tr>\n",
       "    <tr>\n",
       "      <th>1033</th>\n",
       "      <td>Concussion (2015) Virtual Screening!</td>\n",
       "      <td>Join us on Thursday at 9pm for a virtual scree...</td>\n",
       "      <td>Social</td>\n",
       "      <td>2</td>\n",
       "      <td>DUU Freewater Presentations</td>\n",
       "      <td>Thu, Feb 11, 2021</td>\n",
       "      <td>9 PM – 11:30 PM EST (GMT-5)</td>\n",
       "      <td>-</td>\n",
       "      <td>https://dukegroups.com/events/rsvp?id=1001804</td>\n",
       "      <td>Concussion (2015) Virtual Screening!. Join us ...</td>\n",
       "    </tr>\n",
       "    <tr>\n",
       "      <th>3643</th>\n",
       "      <td>Recovery Group Meeting</td>\n",
       "      <td>Struggling with addiction? Seeking support for...</td>\n",
       "      <td>Health/Wellness</td>\n",
       "      <td>1</td>\n",
       "      <td>Student Wellness Center</td>\n",
       "      <td>Fri, Dec 3, 2021</td>\n",
       "      <td>4 PM – 5 PM EST (GMT-5)</td>\n",
       "      <td>Private Location (sign in to display)</td>\n",
       "      <td>https://dukegroups.com/events/rsvp?id=1170068</td>\n",
       "      <td>Recovery Group Meeting. Struggling with addict...</td>\n",
       "    </tr>\n",
       "    <tr>\n",
       "      <th>1951</th>\n",
       "      <td>Annual Exhibit Opening Reception</td>\n",
       "      <td>To mark the opening of the annual Art of a Sci...</td>\n",
       "      <td>Social</td>\n",
       "      <td>2</td>\n",
       "      <td>Art of a Scientist</td>\n",
       "      <td>Sat, Jul 15, 2023</td>\n",
       "      <td>6 PM – 8 PM EDT (GMT-4)</td>\n",
       "      <td>Private Location (sign in to display)</td>\n",
       "      <td>https://dukegroups.com/events/rsvp?id=2126080</td>\n",
       "      <td>Annual Exhibit Opening Reception. To mark the ...</td>\n",
       "    </tr>\n",
       "    <tr>\n",
       "      <th>262</th>\n",
       "      <td>Ciceronian Society hosts Dr. Peter Arcidiacono</td>\n",
       "      <td>In place of our traditional general body meeti...</td>\n",
       "      <td>Lecture/Talk</td>\n",
       "      <td>4</td>\n",
       "      <td>The Ciceronian Society</td>\n",
       "      <td>Thu, Feb 17, 2022</td>\n",
       "      <td>6:30 PM – 8 PM EST (GMT-5)</td>\n",
       "      <td>Private Location (sign in to display)</td>\n",
       "      <td>https://dukegroups.com/events/rsvp?id=1499566</td>\n",
       "      <td>Ciceronian Society hosts Dr. Peter Arcidiacono...</td>\n",
       "    </tr>\n",
       "  </tbody>\n",
       "</table>\n",
       "</div>"
      ],
      "text/plain": [
       "                                               title  \\\n",
       "4404                       TeaGather with CommuniTEA   \n",
       "1033            Concussion (2015) Virtual Screening!   \n",
       "3643                          Recovery Group Meeting   \n",
       "1951                Annual Exhibit Opening Reception   \n",
       "262   Ciceronian Society hosts Dr. Peter Arcidiacono   \n",
       "\n",
       "                                                details             type  \\\n",
       "4404  In partnership with Duke CommuniTEA, this well...  Health/Wellness   \n",
       "1033  Join us on Thursday at 9pm for a virtual scree...           Social   \n",
       "3643  Struggling with addiction? Seeking support for...  Health/Wellness   \n",
       "1951  To mark the opening of the annual Art of a Sci...           Social   \n",
       "262   In place of our traditional general body meeti...     Lecture/Talk   \n",
       "\n",
       "      type_id                         host               date  \\\n",
       "4404        1      Student Wellness Center  Thu, Mar 23, 2023   \n",
       "1033        2  DUU Freewater Presentations  Thu, Feb 11, 2021   \n",
       "3643        1      Student Wellness Center   Fri, Dec 3, 2021   \n",
       "1951        2           Art of a Scientist  Sat, Jul 15, 2023   \n",
       "262         4       The Ciceronian Society  Thu, Feb 17, 2022   \n",
       "\n",
       "                             time                               location  \\\n",
       "4404      5 PM – 6 PM EDT (GMT-4)  Private Location (sign in to display)   \n",
       "1033  9 PM – 11:30 PM EST (GMT-5)                                      -   \n",
       "3643      4 PM – 5 PM EST (GMT-5)  Private Location (sign in to display)   \n",
       "1951      6 PM – 8 PM EDT (GMT-4)  Private Location (sign in to display)   \n",
       "262    6:30 PM – 8 PM EST (GMT-5)  Private Location (sign in to display)   \n",
       "\n",
       "                                               link  \\\n",
       "4404  https://dukegroups.com/events/rsvp?id=1936769   \n",
       "1033  https://dukegroups.com/events/rsvp?id=1001804   \n",
       "3643  https://dukegroups.com/events/rsvp?id=1170068   \n",
       "1951  https://dukegroups.com/events/rsvp?id=2126080   \n",
       "262   https://dukegroups.com/events/rsvp?id=1499566   \n",
       "\n",
       "                                          title_details  \n",
       "4404  TeaGather with CommuniTEA. In partnership with...  \n",
       "1033  Concussion (2015) Virtual Screening!. Join us ...  \n",
       "3643  Recovery Group Meeting. Struggling with addict...  \n",
       "1951  Annual Exhibit Opening Reception. To mark the ...  \n",
       "262   Ciceronian Society hosts Dr. Peter Arcidiacono...  "
      ]
     },
     "execution_count": 4,
     "metadata": {},
     "output_type": "execute_result"
    }
   ],
   "source": [
    "events.sample(5)"
   ]
  },
  {
   "cell_type": "code",
   "execution_count": 5,
   "metadata": {},
   "outputs": [
    {
     "data": {
      "text/plain": [
       "count    5846.000000\n",
       "mean       32.808074\n",
       "std        16.972864\n",
       "min         4.000000\n",
       "25%        21.000000\n",
       "50%        30.000000\n",
       "75%        41.000000\n",
       "max       180.000000\n",
       "Name: title, dtype: float64"
      ]
     },
     "execution_count": 5,
     "metadata": {},
     "output_type": "execute_result"
    }
   ],
   "source": [
    "events['title'].str.len().describe()"
   ]
  },
  {
   "cell_type": "code",
   "execution_count": 6,
   "metadata": {},
   "outputs": [
    {
     "data": {
      "text/plain": [
       "count    5839.000000\n",
       "mean      304.315636\n",
       "std       256.655405\n",
       "min         4.000000\n",
       "25%       112.000000\n",
       "50%       253.000000\n",
       "75%       423.000000\n",
       "max      3944.000000\n",
       "Name: details, dtype: float64"
      ]
     },
     "execution_count": 6,
     "metadata": {},
     "output_type": "execute_result"
    }
   ],
   "source": [
    "events['details'].str.len().describe()"
   ]
  },
  {
   "cell_type": "code",
   "execution_count": 7,
   "metadata": {},
   "outputs": [
    {
     "data": {
      "text/plain": [
       "count    5839.000000\n",
       "mean      339.119541\n",
       "std       262.512188\n",
       "min        19.000000\n",
       "25%       144.000000\n",
       "50%       294.000000\n",
       "75%       462.000000\n",
       "max      4009.000000\n",
       "Name: title_details, dtype: float64"
      ]
     },
     "execution_count": 7,
     "metadata": {},
     "output_type": "execute_result"
    }
   ],
   "source": [
    "events['title_details'].str.len().describe()"
   ]
  },
  {
   "cell_type": "code",
   "execution_count": 8,
   "metadata": {},
   "outputs": [
    {
     "data": {
      "text/html": [
       "<div>\n",
       "<style scoped>\n",
       "    .dataframe tbody tr th:only-of-type {\n",
       "        vertical-align: middle;\n",
       "    }\n",
       "\n",
       "    .dataframe tbody tr th {\n",
       "        vertical-align: top;\n",
       "    }\n",
       "\n",
       "    .dataframe thead th {\n",
       "        text-align: right;\n",
       "    }\n",
       "</style>\n",
       "<table border=\"1\" class=\"dataframe\">\n",
       "  <thead>\n",
       "    <tr style=\"text-align: right;\">\n",
       "      <th></th>\n",
       "      <th>title</th>\n",
       "      <th>details</th>\n",
       "      <th>type</th>\n",
       "      <th>type_id</th>\n",
       "      <th>host</th>\n",
       "      <th>date</th>\n",
       "      <th>time</th>\n",
       "      <th>location</th>\n",
       "      <th>link</th>\n",
       "      <th>title_details</th>\n",
       "      <th>title_details_length</th>\n",
       "    </tr>\n",
       "  </thead>\n",
       "  <tbody>\n",
       "    <tr>\n",
       "      <th>30</th>\n",
       "      <td>The Jews Are Coming: Biblical Satire and Moder...</td>\n",
       "      <td>Throughout modern Israeli history, satire has ...</td>\n",
       "      <td>Lecture/Talk</td>\n",
       "      <td>4</td>\n",
       "      <td>Jewish Life at Duke</td>\n",
       "      <td>Sun, Oct 25, 2020</td>\n",
       "      <td>1:30 PM – 3 PM EDT (GMT-4)</td>\n",
       "      <td>Online Event</td>\n",
       "      <td>https://dukegroups.com/events/rsvp?id=868577</td>\n",
       "      <td>The Jews Are Coming: Biblical Satire and Moder...</td>\n",
       "      <td>4009.0</td>\n",
       "    </tr>\n",
       "    <tr>\n",
       "      <th>2995</th>\n",
       "      <td>PBS NC's Preview Screening of Facing Suicide a...</td>\n",
       "      <td>HYBRID EVENT //Two ways to join: online or in ...</td>\n",
       "      <td>Panel/Seminar/Colloquim</td>\n",
       "      <td>5</td>\n",
       "      <td>Duke Active Minds</td>\n",
       "      <td>Wed, Aug 31, 2022</td>\n",
       "      <td>7 PM – 8:45 PM EDT (GMT-4)</td>\n",
       "      <td>Private Location (sign in to display)</td>\n",
       "      <td>https://dukegroups.com/events/rsvp?id=1698894</td>\n",
       "      <td>PBS NC's Preview Screening of Facing Suicide a...</td>\n",
       "      <td>2566.0</td>\n",
       "    </tr>\n",
       "    <tr>\n",
       "      <th>2791</th>\n",
       "      <td>Migration Policy in LAC</td>\n",
       "      <td>The number of migrants and refugees from Venez...</td>\n",
       "      <td>Panel/Seminar/Colloquim</td>\n",
       "      <td>5</td>\n",
       "      <td>Sanford Latin American and Caribbean Student G...</td>\n",
       "      <td>Tue, Nov 9, 2021</td>\n",
       "      <td>6 PM – 8 PM EST (GMT-5)</td>\n",
       "      <td>Rhodes Conference Room</td>\n",
       "      <td>https://dukegroups.com/events/rsvp?id=1353685</td>\n",
       "      <td>Migration Policy in LAC. The number of migrant...</td>\n",
       "      <td>2548.0</td>\n",
       "    </tr>\n",
       "    <tr>\n",
       "      <th>26</th>\n",
       "      <td>Transforming the Vote feat. Cornell William Br...</td>\n",
       "      <td>Join DUU Speakers and Stage for 'Transforming ...</td>\n",
       "      <td>Lecture/Talk</td>\n",
       "      <td>4</td>\n",
       "      <td>DUU Speakers and Stage</td>\n",
       "      <td>Mon, Nov 2, 2020</td>\n",
       "      <td>8 PM – 9 PM EST (GMT-5)</td>\n",
       "      <td>Online Event</td>\n",
       "      <td>https://dukegroups.com/events/rsvp?id=871889</td>\n",
       "      <td>Transforming the Vote feat. Cornell William Br...</td>\n",
       "      <td>2515.0</td>\n",
       "    </tr>\n",
       "    <tr>\n",
       "      <th>5377</th>\n",
       "      <td>Job Search Group Advising for Master's Students</td>\n",
       "      <td>Hello, Master's Students!You're welcome to joi...</td>\n",
       "      <td>Workshop/Short Course</td>\n",
       "      <td>3</td>\n",
       "      <td>Career Center</td>\n",
       "      <td>Tue, Feb 8, 2022</td>\n",
       "      <td>3:30 PM – 4:30 PM EST (GMT-5)</td>\n",
       "      <td>Private Location (sign in to display)</td>\n",
       "      <td>https://dukegroups.com/events/rsvp?id=1479932</td>\n",
       "      <td>Job Search Group Advising for Master's Student...</td>\n",
       "      <td>2048.0</td>\n",
       "    </tr>\n",
       "  </tbody>\n",
       "</table>\n",
       "</div>"
      ],
      "text/plain": [
       "                                                  title  \\\n",
       "30    The Jews Are Coming: Biblical Satire and Moder...   \n",
       "2995  PBS NC's Preview Screening of Facing Suicide a...   \n",
       "2791                            Migration Policy in LAC   \n",
       "26    Transforming the Vote feat. Cornell William Br...   \n",
       "5377    Job Search Group Advising for Master's Students   \n",
       "\n",
       "                                                details  \\\n",
       "30    Throughout modern Israeli history, satire has ...   \n",
       "2995  HYBRID EVENT //Two ways to join: online or in ...   \n",
       "2791  The number of migrants and refugees from Venez...   \n",
       "26    Join DUU Speakers and Stage for 'Transforming ...   \n",
       "5377  Hello, Master's Students!You're welcome to joi...   \n",
       "\n",
       "                         type  type_id  \\\n",
       "30               Lecture/Talk        4   \n",
       "2995  Panel/Seminar/Colloquim        5   \n",
       "2791  Panel/Seminar/Colloquim        5   \n",
       "26               Lecture/Talk        4   \n",
       "5377    Workshop/Short Course        3   \n",
       "\n",
       "                                                   host               date  \\\n",
       "30                                  Jewish Life at Duke  Sun, Oct 25, 2020   \n",
       "2995                                  Duke Active Minds  Wed, Aug 31, 2022   \n",
       "2791  Sanford Latin American and Caribbean Student G...   Tue, Nov 9, 2021   \n",
       "26                               DUU Speakers and Stage   Mon, Nov 2, 2020   \n",
       "5377                                      Career Center   Tue, Feb 8, 2022   \n",
       "\n",
       "                               time                               location  \\\n",
       "30       1:30 PM – 3 PM EDT (GMT-4)                           Online Event   \n",
       "2995     7 PM – 8:45 PM EDT (GMT-4)  Private Location (sign in to display)   \n",
       "2791        6 PM – 8 PM EST (GMT-5)                 Rhodes Conference Room   \n",
       "26          8 PM – 9 PM EST (GMT-5)                           Online Event   \n",
       "5377  3:30 PM – 4:30 PM EST (GMT-5)  Private Location (sign in to display)   \n",
       "\n",
       "                                               link  \\\n",
       "30     https://dukegroups.com/events/rsvp?id=868577   \n",
       "2995  https://dukegroups.com/events/rsvp?id=1698894   \n",
       "2791  https://dukegroups.com/events/rsvp?id=1353685   \n",
       "26     https://dukegroups.com/events/rsvp?id=871889   \n",
       "5377  https://dukegroups.com/events/rsvp?id=1479932   \n",
       "\n",
       "                                          title_details  title_details_length  \n",
       "30    The Jews Are Coming: Biblical Satire and Moder...                4009.0  \n",
       "2995  PBS NC's Preview Screening of Facing Suicide a...                2566.0  \n",
       "2791  Migration Policy in LAC. The number of migrant...                2548.0  \n",
       "26    Transforming the Vote feat. Cornell William Br...                2515.0  \n",
       "5377  Job Search Group Advising for Master's Student...                2048.0  "
      ]
     },
     "execution_count": 8,
     "metadata": {},
     "output_type": "execute_result"
    }
   ],
   "source": [
    "# Sort by length of title_details in descending order\n",
    "len_sorted = events.sort_values(by='title_details', key=lambda x: x.str.len(), ascending=False)\n",
    "# Create a new column with the length of title_details\n",
    "len_sorted['title_details_length'] = len_sorted['title_details'].str.len()\n",
    "len_sorted.head(5)\n"
   ]
  },
  {
   "cell_type": "code",
   "execution_count": 16,
   "metadata": {},
   "outputs": [],
   "source": [
    "from transformers import BertTokenizer\n",
    "\n",
    "# Initialize the BERT tokenizer\n",
    "tokenizer = BertTokenizer.from_pretrained(\"bert-base-uncased\")\n",
    "\n",
    "\n",
    "events['title_details'] = events['title_details'].astype(str)\n",
    "events['token'] = events['title_details'].apply(lambda x: tokenizer.encode(x, max_length=512, truncation=True))\n",
    "\n",
    "\n",
    "\n",
    "# # Your list of sentences\n",
    "# sentences = [\n",
    "#     \"This is the first sentence.\",\n",
    "#     \"Here's another example sentence.\",\n",
    "#     \"A third sentence to tokenize.\"\n",
    "# ]\n",
    "\n",
    "# # Get the number of tokens for each sentence\n",
    "# for sentence in sentences:\n",
    "#     # Tokenize the sentence\n",
    "#     tokens = tokenizer.encode(sentence, max_length=512, truncation=True)\n",
    "\n",
    "#     # Print the original sentence and the number of tokens\n",
    "#     print(f\"Sentence: {sentence}\")\n",
    "#     print(f\"Number of tokens: {len(tokens)}\")\n",
    "#     print()"
   ]
  },
  {
   "cell_type": "code",
   "execution_count": 17,
   "metadata": {},
   "outputs": [
    {
     "data": {
      "text/plain": [
       "count    5846.000000\n",
       "mean       73.593055\n",
       "std        54.603185\n",
       "min         3.000000\n",
       "25%        32.000000\n",
       "50%        63.000000\n",
       "75%        97.000000\n",
       "max       512.000000\n",
       "Name: token, dtype: float64"
      ]
     },
     "execution_count": 17,
     "metadata": {},
     "output_type": "execute_result"
    }
   ],
   "source": [
    "events['token'].str.len().describe()"
   ]
  },
  {
   "cell_type": "code",
   "execution_count": 18,
   "metadata": {},
   "outputs": [
    {
     "data": {
      "text/plain": [
       "<Axes: >"
      ]
     },
     "execution_count": 18,
     "metadata": {},
     "output_type": "execute_result"
    },
    {
     "data": {
      "image/png": "[encoded data removed]",
      "text/plain": [
       "<Figure size 640x480 with 1 Axes>"
      ]
     },
     "metadata": {},
     "output_type": "display_data"
    }
   ],
   "source": [
    "events['token'].str.len().hist()"
   ]
  },
  {
   "cell_type": "markdown",
   "metadata": {},
   "source": [
    "## Checking the Capitalization of the Title and Details"
   ]
  },
  {
   "cell_type": "code",
   "execution_count": null,
   "metadata": {},
   "outputs": [],
   "source": []
  },
  {
   "cell_type": "code",
   "execution_count": 19,
   "metadata": {},
   "outputs": [
    {
     "name": "stdout",
     "output_type": "stream",
     "text": [
      "details\n",
      "Duke          3547\n",
      "This          1306\n",
      "Join          1147\n",
      "Center        1055\n",
      "Student        801\n",
      "              ... \n",
      "Paypal           1\n",
      "Jackpot          1\n",
      "Even             1\n",
      "Nowruz           1\n",
      "Succulents       1\n",
      "Name: count, Length: 4924, dtype: int64\n"
     ]
    }
   ],
   "source": [
    "import re\n",
    "\n",
    "capitalized_words = events['details'].str.findall(r'(?<!\\.\\s)\\b[A-Z][a-z]+\\b')\n",
    "capitalized_words = capitalized_words.explode().dropna()\n",
    "numbers_count = capitalized_words.value_counts()\n",
    "print(numbers_count)\n",
    "\n",
    "\n"
   ]
  },
  {
   "cell_type": "code",
   "execution_count": 20,
   "metadata": {},
   "outputs": [
    {
     "data": {
      "text/plain": [
       "type_id\n",
       "2    1931\n",
       "1    1736\n",
       "3     978\n",
       "4     756\n",
       "5     445\n",
       "Name: count, dtype: int64"
      ]
     },
     "execution_count": 20,
     "metadata": {},
     "output_type": "execute_result"
    }
   ],
   "source": [
    "events['type_id'].value_counts()"
   ]
  },
  {
   "cell_type": "code",
   "execution_count": 21,
   "metadata": {},
   "outputs": [
    {
     "data": {
      "text/plain": [
       "count    5846.000000\n",
       "mean        2.357338\n",
       "std         1.240638\n",
       "min         1.000000\n",
       "25%         1.000000\n",
       "50%         2.000000\n",
       "75%         3.000000\n",
       "max         5.000000\n",
       "Name: type_id, dtype: float64"
      ]
     },
     "execution_count": 21,
     "metadata": {},
     "output_type": "execute_result"
    }
   ],
   "source": [
    "events['type_id'].describe()"
   ]
  },
  {
   "cell_type": "code",
   "execution_count": 22,
   "metadata": {},
   "outputs": [
    {
     "data": {
      "text/plain": [
       "(5846, 11)"
      ]
     },
     "execution_count": 22,
     "metadata": {},
     "output_type": "execute_result"
    }
   ],
   "source": [
    "events.shape"
   ]
  },
  {
   "cell_type": "markdown",
   "metadata": {},
   "source": [
    "There is no missing labels"
   ]
  }
 ],
 "metadata": {
  "kernelspec": {
   "display_name": "Python 3",
   "language": "python",
   "name": "python3"
  },
  "language_info": {
   "codemirror_mode": {
    "name": "ipython",
    "version": 3
   },
   "file_extension": ".py",
   "mimetype": "text/x-python",
   "name": "python",
   "nbconvert_exporter": "python",
   "pygments_lexer": "ipython3",
   "version": "3.10.13"
  }
 },
 "nbformat": 4,
 "nbformat_minor": 2
}
